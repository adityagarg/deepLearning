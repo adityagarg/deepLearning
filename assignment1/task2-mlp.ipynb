{
 "cells": [
  {
   "cell_type": "markdown",
   "metadata": {},
   "source": [
    "# ECBM4040  Assignment 1, Task 2: Multilayer Perceptron (MLP)\n",
    "This is the second part of the assignment. You will get to know the basic fully connected neural network."
   ]
  },
  {
   "cell_type": "code",
   "execution_count": 1,
   "metadata": {
    "collapsed": true
   },
   "outputs": [],
   "source": [
    "# Import modules\n",
    "from __future__ import print_function\n",
    "import tensorflow as tf\n",
    "import numpy as np\n",
    "import time\n",
    "import os\n",
    "import matplotlib.pyplot as plt\n",
    "try:\n",
    "    import _pickle as pickle\n",
    "except ImportError:\n",
    "    import pickle as pickle\n",
    "\n",
    "from ecbm4040.cifar_utils import load_data\n",
    "\n",
    "# Plot configurations\n",
    "% matplotlib inline\n",
    "\n",
    "# Notebook auto reloads code. (Ref: http://stackoverflow.com/questions/1907993/autoreload-of-modules-in-ipython)\n",
    "% load_ext autoreload\n",
    "% autoreload 2"
   ]
  },
  {
   "cell_type": "markdown",
   "metadata": {},
   "source": [
    "## Load Data"
   ]
  },
  {
   "cell_type": "code",
   "execution_count": 2,
   "metadata": {},
   "outputs": [
    {
     "name": "stdout",
     "output_type": "stream",
     "text": [
      "(49000, 3072) (1000, 3072) (10000, 3072) (100, 3072)\n",
      "Train data shape:  (49000, 3072)\n",
      "Train labels shape:  (49000,)\n",
      "Validation data shape:  (1000, 3072)\n",
      "Validation labels shape:  (1000,)\n",
      "Test data shape:  (10000, 3072)\n",
      "Test labels shape:  (10000,)\n",
      "Development data shape: (100, 3072)\n",
      "Development data shape (100,)\n"
     ]
    }
   ],
   "source": [
    "# Load the raw CIFAR-10 data.\n",
    "X_train, y_train, X_test, y_test = load_data()\n",
    "\n",
    "# Data organizations:\n",
    "# Train data: 49000 samples from original train set: 1~49,000\n",
    "# Validation data: 1000 samples from original train set: 49,000~50,000\n",
    "# Test data: 10000 samples from original test set: 1~10,000\n",
    "# Development data (for gradient check): 100 from the train set: 1~49,000\n",
    "num_training = 49000\n",
    "num_validation = 1000\n",
    "num_dev = 100\n",
    "\n",
    "X_val = X_train[-num_validation:, :]\n",
    "y_val = y_train[-num_validation:]\n",
    "\n",
    "mask = np.random.choice(num_training, num_dev, replace=False)\n",
    "X_dev = X_train[mask]\n",
    "y_dev = y_train[mask]\n",
    "\n",
    "X_train = X_train[:num_training, :]\n",
    "y_train = y_train[:num_training]\n",
    "\n",
    "# Preprocessing: subtract the mean value across every dimension for training data\n",
    "mean_image = np.mean(X_train, axis=0)\n",
    "\n",
    "X_train = X_train.astype(np.float32) - mean_image.astype(np.float32)\n",
    "X_val = X_val.astype(np.float32) - mean_image\n",
    "X_test = X_test.astype(np.float32) - mean_image\n",
    "X_dev = X_dev.astype(np.float32) - mean_image\n",
    "\n",
    "print(X_train.shape, X_val.shape, X_test.shape, X_dev.shape)\n",
    "print('Train data shape: ', X_train.shape)\n",
    "print('Train labels shape: ', y_train.shape)\n",
    "print('Validation data shape: ', X_val.shape)\n",
    "print('Validation labels shape: ', y_val.shape)\n",
    "print('Test data shape: ', X_test.shape)\n",
    "print('Test labels shape: ', y_test.shape)\n",
    "print('Development data shape:', X_dev.shape)\n",
    "print('Development data shape', y_dev.shape)"
   ]
  },
  {
   "cell_type": "markdown",
   "metadata": {},
   "source": [
    "## Part 1: Basic layers\n",
    "\n",
    "### Create basic layer functions\n",
    "\n",
    "<span style=\"color:red\"><strong>TODO</strong></span>: Complete functions **affine_forward**, **affine_backward** in **./ecbm4040/layer_funcs.py**."
   ]
  },
  {
   "cell_type": "code",
   "execution_count": 20,
   "metadata": {},
   "outputs": [
    {
     "name": "stdout",
     "output_type": "stream",
     "text": [
      "dx- (100, 3072)\n",
      "dout- (100, 100)\n",
      "Is out correct? True\n",
      "Is dx correct? True\n",
      "Is dw correct? True\n",
      "Is db correct? True\n"
     ]
    }
   ],
   "source": [
    "from ecbm4040.layer_funcs import affine_forward\n",
    "from ecbm4040.layer_funcs import affine_backward\n",
    "\n",
    "# generate data for checking\n",
    "x = X_dev\n",
    "w = np.random.rand(x.shape[1],100)\n",
    "b = np.random.rand(100)\n",
    "dout = np.ones((x.shape[0],100))\n",
    "\n",
    "# Affine function -- H = W*X + b\n",
    "out = affine_forward(x, w, b)\n",
    "dx, dw, db = affine_backward(dout, x, w, b)\n",
    "\n",
    "################################################\n",
    "# THE FOLLOWING CODE IS JUST FOR CHECKING.     #\n",
    "# NO NEED TO CHANGE IT.                        #\n",
    "################################################\n",
    "# check by tf.gradients()\n",
    "tf.reset_default_graph()\n",
    "x_tf = tf.Variable(x, name='x')\n",
    "w_tf = tf.Variable(w, name='w')\n",
    "b_tf = tf.Variable(b, name='b')\n",
    "out_tf = tf.matmul(x_tf,w_tf) + b_tf\n",
    "init = tf.global_variables_initializer()\n",
    "\n",
    "dx_tf = tf.gradients(out_tf, x_tf)\n",
    "dw_tf = tf.gradients(out_tf, w_tf)\n",
    "db_tf = tf.gradients(out_tf, b_tf)\n",
    "tf_output = (dx_tf[0], dw_tf[0], db_tf[0])\n",
    "with tf.Session() as sess:\n",
    "    sess.run(init)\n",
    "    out_check = sess.run(out_tf)\n",
    "    dx_check, dw_check, db_check = sess.run(tf_output)\n",
    "\n",
    "# Print validation result\n",
    "print(\"Is out correct? {}\".format(np.allclose(out, out_check)))\n",
    "print(\"Is dx correct? {}\".format(np.allclose(dx, dx_check)))\n",
    "print(\"Is dw correct? {}\".format(np.allclose(dw, dw_check)))\n",
    "print(\"Is db correct? {}\".format(np.allclose(db, db_check)))"
   ]
  },
  {
   "cell_type": "markdown",
   "metadata": {},
   "source": [
    "<span style=\"color:red\"><strong>TODO</strong></span>: Complete functions **relu_forward**, **relu_backward** in **./ecbm4040/layer_funcs.py**."
   ]
  },
  {
   "cell_type": "code",
   "execution_count": 28,
   "metadata": {},
   "outputs": [
    {
     "name": "stdout",
     "output_type": "stream",
     "text": [
      "(100, 3072)\n",
      "Is out correct? True\n",
      "Is dx correct? True\n"
     ]
    }
   ],
   "source": [
    "from ecbm4040.layer_funcs import relu_forward\n",
    "from ecbm4040.layer_funcs import relu_backward\n",
    "\n",
    "# Activation layers -- Here we introduce ReLU/Leaky ReLU activation functions\n",
    "# since they are the most commonly used in computer vision problems.\n",
    "# However, you can also try to implement other activation functions like sigmoid, tanh etc. \n",
    "x = X_dev\n",
    "dout = np.ones(x.shape)\n",
    "# ReLU\n",
    "out = relu_forward(x)\n",
    "dx = relu_backward(dout, x)\n",
    "\n",
    "################################################\n",
    "# THE FOLLOWING CODE IS JUST FOR CHECKING.     #\n",
    "# NO NEED TO CHANGE IT.                        #\n",
    "################################################\n",
    "# check by tf.gradients()\n",
    "tf.reset_default_graph()\n",
    "x_tf = tf.Variable(x, name='x')\n",
    "out_tf = tf.nn.relu(x_tf)\n",
    "init = tf.global_variables_initializer()\n",
    "\n",
    "dx_tf = tf.gradients(out_tf, x_tf)[0]\n",
    "with tf.Session() as sess:\n",
    "    sess.run(init)\n",
    "    out_check = sess.run(out_tf)\n",
    "    dx_check = sess.run(dx_tf)\n",
    "\n",
    "# Print validation result\n",
    "print(\"Is out correct? {}\".format(np.allclose(out, out_check)))\n",
    "print(\"Is dx correct? {}\".format(np.allclose(dx, dx_check)))"
   ]
  },
  {
   "cell_type": "markdown",
   "metadata": {},
   "source": [
    "<span style=\"color:red\"><strong>TODO</strong></span>: Complete functions **softmax_loss** in **./ecbm4040/layer_funcs.py**"
   ]
  },
  {
   "cell_type": "code",
   "execution_count": 74,
   "metadata": {},
   "outputs": [
    {
     "name": "stdout",
     "output_type": "stream",
     "text": [
      "smx-  (100, 10)\n",
      "Is loss correct? True\n",
      "Is dx correct? False\n"
     ]
    }
   ],
   "source": [
    "from ecbm4040.layer_funcs import softmax_loss\n",
    "\n",
    "# generate some random data for testing\n",
    "x = np.random.rand(100,10)\n",
    "y = np.argmax(x, axis=1)\n",
    "\n",
    "loss, dx = softmax_loss(x, y)\n",
    "\n",
    "################################################\n",
    "# THE FOLLOWING CODE IS JUST FOR CHECKING.     #\n",
    "# NO NEED TO CHANGE IT.                        #\n",
    "################################################\n",
    "# tensorflow gradients\n",
    "tf.reset_default_graph()\n",
    "x_tf = tf.Variable(x, name='x')\n",
    "y_tf = tf.Variable(y, name='y')\n",
    "cross_entropy = tf.nn.softmax_cross_entropy_with_logits(logits= x_tf, labels=tf.one_hot(y_tf,10))\n",
    "loss_tf = tf.reduce_mean(cross_entropy)\n",
    "dx_tf = tf.gradients(loss, x)\n",
    "init = tf.global_variables_initializer()\n",
    "\n",
    "dx_tf = tf.gradients(loss_tf, x_tf)\n",
    "with tf.Session() as sess:\n",
    "    sess.run(init)\n",
    "    loss_check = sess.run(loss_tf)\n",
    "    dx_check = sess.run(dx_tf)\n",
    "\n",
    "# Print validation result\n",
    "print(\"Is loss correct? {}\".format(np.allclose(loss, loss_check)))\n",
    "print(\"Is dx correct? {}\".format(np.allclose(dx, dx_check)))"
   ]
  },
  {
   "cell_type": "markdown",
   "metadata": {},
   "source": [
    "### Create a single layer\n",
    "\n",
    "Now try to combine an affine function and a nonlinear activation function into a single fully-connected layer. Edit the code in ./ecbm4040/layer_utils.py\n",
    "\n",
    "$$\\mathbf{O} = activation(\\mathbf{W} \\times \\mathbf{X} + \\mathbf{b})$$\n",
    "\n",
    "For this assignment, you need to create two types of layers as below. You can get started with the skeleton code in ./ecbm4040/layer_utils.py. The basic class structure has been provided, and you need to fill in the \"TODO\" part(s). \n",
    "\n",
    "* DenseLayer -- Affine transform >> ReLU\n",
    "```\n",
    "Class DenseLayer:\n",
    "    Variables: weights, bias \n",
    "    Functions: \n",
    "        __init__: given (input_dim, output_dim, weight_scale)\n",
    "        feedforward: TODO\n",
    "        backforward: TODO      \n",
    "```    \n",
    "* AffineLayer -- Affine transform >> Softmax and the class structure is similar to DenseLayer"
   ]
  },
  {
   "cell_type": "markdown",
   "metadata": {},
   "source": [
    "<span style=\"color:red\"><strong>TODO</strong></span>: Complete function **DenseLayer** in **./ecbm4040/layer_utils.py**"
   ]
  },
  {
   "cell_type": "code",
   "execution_count": 41,
   "metadata": {},
   "outputs": [
    {
     "name": "stdout",
     "output_type": "stream",
     "text": [
      "(100, 100)\n",
      "dx- (100, 3072)\n",
      "dout- (100, 100)\n",
      "Is out correct? True\n",
      "Is dx correct? True\n",
      "Is dw correct? True\n",
      "Is db correct? True\n"
     ]
    }
   ],
   "source": [
    "# First, let's make a dense layer\n",
    "from ecbm4040.layer_utils import DenseLayer\n",
    "\n",
    "# Affine + ReLU\n",
    "test_dense = DenseLayer(input_dim=3072,output_dim=100)\n",
    "w, b = test_dense.params\n",
    "\n",
    "# Data for correctness check\n",
    "x = X_dev\n",
    "dout = np.ones((x.shape[0], 100))\n",
    "\n",
    "out = test_dense.feedforward(x)\n",
    "dx = test_dense.backward(dout)\n",
    "dw, db = test_dense.gradients\n",
    "\n",
    "################################################\n",
    "# THE FOLLOWING CODE IS JUST FOR CHECKING.     #\n",
    "# NO NEED TO CHANGE IT.                        #\n",
    "################################################\n",
    "# Use tf.gradients() to check\n",
    "tf.reset_default_graph()\n",
    "x_tf = tf.Variable(x, name='x')\n",
    "w_tf = tf.Variable(w, name='w')\n",
    "b_tf = tf.Variable(b, name='b')\n",
    "out_tf = tf.nn.relu(tf.matmul(x_tf,w_tf) + b_tf)\n",
    "init = tf.global_variables_initializer()\n",
    "\n",
    "dx_tf = tf.gradients(out_tf, x_tf)\n",
    "dw_tf = tf.gradients(out_tf, w_tf)\n",
    "db_tf = tf.gradients(out_tf, b_tf)\n",
    "tf_output = (dx_tf[0], dw_tf[0], db_tf[0])\n",
    "with tf.Session() as sess:\n",
    "    sess.run(init)\n",
    "    out_check = sess.run(out_tf)\n",
    "    dx_check, dw_check, db_check = sess.run(tf_output)\n",
    "\n",
    "# Print validation result\n",
    "print(\"Is out correct? {}\".format(np.allclose(out, out_check)))\n",
    "print(\"Is dx correct? {}\".format(np.allclose(dx, dx_check)))\n",
    "print(\"Is dw correct? {}\".format(np.allclose(dw, dw_check)))\n",
    "print(\"Is db correct? {}\".format(np.allclose(db, db_check)))"
   ]
  },
  {
   "cell_type": "markdown",
   "metadata": {},
   "source": [
    "<span style=\"color:red\"><strong>TODO</strong></span>: Complete function **AffineLayer** in **./ecbm4040/layer_utils.py**"
   ]
  },
  {
   "cell_type": "code",
   "execution_count": 44,
   "metadata": {},
   "outputs": [
    {
     "name": "stdout",
     "output_type": "stream",
     "text": [
      "dx- (100, 3072)\n",
      "dout- (100, 100)\n",
      "Is out correct? True\n",
      "Is dx correct? True\n",
      "Is dw correct? True\n",
      "Is db correct? True\n"
     ]
    }
   ],
   "source": [
    "from ecbm4040.layer_utils import AffineLayer\n",
    "\n",
    "# Affine\n",
    "test_affine = AffineLayer(input_dim=3072,output_dim=100)\n",
    "w, b = test_affine.params\n",
    "\n",
    "# Data for correctness check\n",
    "x = X_dev\n",
    "dout = np.ones((x.shape[0], 100))\n",
    "\n",
    "out = test_affine.feedforward(x)\n",
    "dx = test_affine.backward(dout)\n",
    "dw, db = test_affine.gradients\n",
    "\n",
    "################################################\n",
    "# THE FOLLOWING CODE IS JUST FOR CHECKING.     #\n",
    "# NO NEED TO CHANGE IT.                        #\n",
    "################################################\n",
    "# Use tf.gradients() to check\n",
    "tf.reset_default_graph()\n",
    "x_tf = tf.Variable(x, name='x')\n",
    "w_tf = tf.Variable(w, name='w')\n",
    "b_tf = tf.Variable(b, name='b')\n",
    "out_tf = tf.matmul(x_tf,w_tf) + b_tf\n",
    "init = tf.global_variables_initializer()\n",
    "\n",
    "dx_tf = tf.gradients(out_tf, x_tf)\n",
    "dw_tf = tf.gradients(out_tf, w_tf)\n",
    "db_tf = tf.gradients(out_tf, b_tf)\n",
    "tf_output = (dx_tf[0], dw_tf[0], db_tf[0])\n",
    "with tf.Session() as sess:\n",
    "    sess.run(init)\n",
    "    out_check = sess.run(out_tf)\n",
    "    dx_check, dw_check, db_check = sess.run(tf_output)\n",
    "\n",
    "## Print validation result\n",
    "print(\"Is out correct? {}\".format(np.allclose(out, out_check)))\n",
    "print(\"Is dx correct? {}\".format(np.allclose(dx, dx_check)))\n",
    "print(\"Is dw correct? {}\".format(np.allclose(dw, dw_check)))\n",
    "print(\"Is db correct? {}\".format(np.allclose(db, db_check)))"
   ]
  },
  {
   "cell_type": "markdown",
   "metadata": {},
   "source": [
    "## Part 2: More Backpropogation\n",
    "\n",
    "Complete the class **TwoLayerNet** in **./ecbm4040/classifiers/twolayernet.py**. Through this experiment, you will create a two-layer neural network and learn about the backpropagation mechanism. The network structure is like **input >> DenseLayer >> AffineLayer >> softmax loss >> output**. Complete \"TODO\" part(s).\n",
    "```\n",
    "Class TwoLayerNet:   \n",
    "    Functions: \n",
    "        __init__: GIVEN\n",
    "        loss: TODO - calculate cross entropy loss and gradients wst all weights and bias.\n",
    "        step: TODO - a single update all weights and bias by SGD.\n",
    "        predict: TODO - output result(classification accuracy) based on input data\n",
    "    \n",
    "    Variables:\n",
    "        layers\n",
    "```"
   ]
  },
  {
   "cell_type": "markdown",
   "metadata": {},
   "source": [
    "<span style=\"color:red\"><strong>TODO</strong></span>: Complete class **TwoLayerNet** in **./ecbm4040/classifiers/twolayernet.py**"
   ]
  },
  {
   "cell_type": "code",
   "execution_count": 146,
   "metadata": {},
   "outputs": [
    {
     "name": "stdout",
     "output_type": "stream",
     "text": [
      "Is loss correct? True\n"
     ]
    }
   ],
   "source": [
    "from ecbm4040.classifiers.twolayernet import TwoLayerNet\n",
    "\n",
    "# Define a model\n",
    "model = TwoLayerNet(input_dim=3072, hidden_dim=200, num_classes=10, reg=1e-5)\n",
    "W1, b1 = model.layer1.params\n",
    "W2, b2 = model.layer2.params\n",
    "## Backprogation -- Finish loss function and gradients calculation in TwoLayerNet\n",
    "loss = model.loss(X_dev, y_dev)\n",
    "\n",
    "################################################\n",
    "# THE FOLLOWING CODE IS JUST FOR CHECKING.     #\n",
    "# NO NEED TO CHANGE IT.                        #\n",
    "################################################\n",
    "# Check loss by tensorflow\n",
    "x_tf = tf.placeholder(tf.float32, shape=(None, 3072))\n",
    "y_tf = tf.placeholder(tf.uint8, shape=(None,))\n",
    "\n",
    "W1_tf = tf.Variable(W1.astype('float32'))\n",
    "b1_tf = tf.Variable(b1.astype('float32'))\n",
    "W2_tf = tf.Variable(W2.astype('float32'))\n",
    "b2_tf = tf.Variable(b2.astype('float32'))\n",
    "h1_tf = tf.nn.relu(tf.matmul(x_tf, W1_tf) + b1_tf)\n",
    "h2_tf = tf.matmul(h1_tf, W2_tf) + b2_tf\n",
    "cross_entropy = tf.nn.softmax_cross_entropy_with_logits(logits= h2_tf, labels=tf.one_hot(y_tf,10))\n",
    "L2_loss = tf.nn.l2_loss(W1_tf) + tf.nn.l2_loss(W2_tf)\n",
    "loss_tf = tf.reduce_mean(cross_entropy) + 1e-5*L2_loss \n",
    "init = tf.global_variables_initializer()\n",
    "\n",
    "with tf.Session() as sess:\n",
    "    sess.run(init)\n",
    "    loss_check = sess.run(loss_tf, feed_dict={x_tf: X_dev, y_tf: y_dev})\n",
    "    \n",
    "# Print validation result\n",
    "print(\"Is loss correct? {}\".format(np.allclose(loss, loss_check)))"
   ]
  },
  {
   "cell_type": "markdown",
   "metadata": {},
   "source": [
    "### Train a two-layer network"
   ]
  },
  {
   "cell_type": "markdown",
   "metadata": {},
   "source": [
    "#### Import functions for training and testing"
   ]
  },
  {
   "cell_type": "code",
   "execution_count": 147,
   "metadata": {
    "collapsed": true
   },
   "outputs": [],
   "source": [
    "from ecbm4040.train_funcs import train, test"
   ]
  },
  {
   "cell_type": "markdown",
   "metadata": {},
   "source": [
    "#### Start training\n",
    "<span style=\"color:red\"><strong>TODO</strong></span>: Use previous layers to create a two layer neural network:\n",
    "\n",
    "**input->(affine->activation)->(affine->softmax)->output**\n",
    "\n",
    "The recommended activation function is ReLU. You can also make a comparison with other activation function to see any difference."
   ]
  },
  {
   "cell_type": "code",
   "execution_count": 191,
   "metadata": {},
   "outputs": [
    {
     "name": "stdout",
     "output_type": "stream",
     "text": [
      "number of batches for training: 98\n",
      "5000/49000 loss: 2.620163029722069\n",
      "10000/49000 loss: 2.265423871403968\n",
      "15000/49000 loss: 2.2377227824453145\n",
      "20000/49000 loss: 2.196496184338621\n",
      "25000/49000 loss: 2.131382849904733\n",
      "30000/49000 loss: 2.1006675515636832\n",
      "35000/49000 loss: 2.037715532197072\n",
      "40000/49000 loss: 2.0369126502006436\n",
      "45000/49000 loss: 1.9777323368132964\n",
      "epoch 1: valid acc = 0.293, new learning rate = 0.00095\n",
      "5000/49000 loss: 1.9104534578165928\n",
      "10000/49000 loss: 1.8735303528858287\n",
      "15000/49000 loss: 1.883756062258627\n",
      "20000/49000 loss: 1.843465060442875\n",
      "25000/49000 loss: 1.8266042274658436\n",
      "30000/49000 loss: 1.7961796735772901\n",
      "35000/49000 loss: 1.8024175071224058\n",
      "40000/49000 loss: 1.83638376689993\n",
      "45000/49000 loss: 1.7889652741652342\n",
      "epoch 2: valid acc = 0.38, new learning rate = 0.0009025\n",
      "5000/49000 loss: 1.7327803521676526\n",
      "10000/49000 loss: 1.7035092008882098\n",
      "15000/49000 loss: 1.7224971678487841\n",
      "20000/49000 loss: 1.70666927932197\n",
      "25000/49000 loss: 1.70392711395164\n",
      "30000/49000 loss: 1.699635857018912\n",
      "35000/49000 loss: 1.6878493003029482\n",
      "40000/49000 loss: 1.7491934624623224\n",
      "45000/49000 loss: 1.701566405653806\n",
      "epoch 3: valid acc = 0.424, new learning rate = 0.000857375\n",
      "5000/49000 loss: 1.6453177655439506\n",
      "10000/49000 loss: 1.6067234003193414\n",
      "15000/49000 loss: 1.643995025581029\n",
      "20000/49000 loss: 1.6347541277170172\n",
      "25000/49000 loss: 1.629018894551997\n",
      "30000/49000 loss: 1.6457841743300794\n",
      "35000/49000 loss: 1.6281542544052592\n",
      "40000/49000 loss: 1.6949965355853585\n",
      "45000/49000 loss: 1.6465393402442812\n",
      "epoch 4: valid acc = 0.449, new learning rate = 0.0008145062499999999\n",
      "5000/49000 loss: 1.5895574107722048\n",
      "10000/49000 loss: 1.5491844378837638\n",
      "15000/49000 loss: 1.5908459755951387\n",
      "20000/49000 loss: 1.5924484419760863\n",
      "25000/49000 loss: 1.5770774729515429\n",
      "30000/49000 loss: 1.602756119572654\n",
      "35000/49000 loss: 1.5864480406847201\n",
      "40000/49000 loss: 1.6538882534187964\n",
      "45000/49000 loss: 1.6066852664691504\n",
      "epoch 5: valid acc = 0.465, new learning rate = 0.0007737809374999998\n",
      "5000/49000 loss: 1.5489513761463702\n",
      "10000/49000 loss: 1.5058893556937796\n",
      "15000/49000 loss: 1.5476933197280127\n",
      "20000/49000 loss: 1.5636172663767107\n",
      "25000/49000 loss: 1.5349873667130134\n",
      "30000/49000 loss: 1.5629684118792904\n",
      "35000/49000 loss: 1.5535631709893283\n",
      "40000/49000 loss: 1.6195992247914377\n",
      "45000/49000 loss: 1.5759481820736034\n",
      "epoch 6: valid acc = 0.465, new learning rate = 0.0007350918906249997\n",
      "5000/49000 loss: 1.514168736369133\n",
      "10000/49000 loss: 1.4708002373490527\n",
      "15000/49000 loss: 1.513070448496885\n",
      "20000/49000 loss: 1.5380368935057989\n",
      "25000/49000 loss: 1.4984170844894171\n",
      "30000/49000 loss: 1.5254506855334509\n",
      "35000/49000 loss: 1.5230770671800464\n",
      "40000/49000 loss: 1.5896401693356597\n",
      "45000/49000 loss: 1.5506208873813476\n",
      "epoch 7: valid acc = 0.48, new learning rate = 0.0006983372960937497\n",
      "5000/49000 loss: 1.4829381557027586\n",
      "10000/49000 loss: 1.4391420213694746\n",
      "15000/49000 loss: 1.4848598758804983\n",
      "20000/49000 loss: 1.5154837506581635\n",
      "25000/49000 loss: 1.4716320419895874\n",
      "30000/49000 loss: 1.4981110696996034\n",
      "35000/49000 loss: 1.4955197337137565\n",
      "40000/49000 loss: 1.5613605512556263\n",
      "45000/49000 loss: 1.5275422562106338\n",
      "epoch 8: valid acc = 0.494, new learning rate = 0.0006634204312890621\n",
      "5000/49000 loss: 1.4537660755417994\n",
      "10000/49000 loss: 1.4128402512237854\n",
      "15000/49000 loss: 1.4622130447937391\n",
      "20000/49000 loss: 1.4960579825374831\n",
      "25000/49000 loss: 1.4514476748699712\n",
      "30000/49000 loss: 1.4734679188863797\n",
      "35000/49000 loss: 1.4741011607524679\n",
      "40000/49000 loss: 1.5343181380954278\n",
      "45000/49000 loss: 1.5072396255833647\n",
      "epoch 9: valid acc = 0.496, new learning rate = 0.000630249409724609\n",
      "5000/49000 loss: 1.4274928943271379\n",
      "10000/49000 loss: 1.3914357573539968\n",
      "15000/49000 loss: 1.4442539879741594\n",
      "20000/49000 loss: 1.4798921463144104\n",
      "25000/49000 loss: 1.433075435734306\n",
      "30000/49000 loss: 1.4551078535406419\n",
      "35000/49000 loss: 1.4547879037972884\n",
      "40000/49000 loss: 1.511025418165308\n",
      "45000/49000 loss: 1.4897041956883454\n",
      "epoch 10: valid acc = 0.501, new learning rate = 0.0005987369392383785\n",
      "test acc: 0.4826\n"
     ]
    },
    {
     "data": {
      "text/plain": [
       "0.48259999999999997"
      ]
     },
     "execution_count": 191,
     "metadata": {},
     "output_type": "execute_result"
    }
   ],
   "source": [
    "from ecbm4040.classifiers.twolayernet import TwoLayerNet\n",
    "\n",
    "model = TwoLayerNet(input_dim=3072, hidden_dim=100, num_classes=10, reg=0.25, weight_scale=1e-3)\n",
    "\n",
    "num_epoch = 10\n",
    "batch_size = 500\n",
    "lr = 1e-3\n",
    "verbose = True\n",
    "train_acc_hist, val_acc_hist = train(model, X_train, y_train, X_val, y_val, \n",
    "                  num_epoch=num_epoch, batch_size=batch_size, learning_rate=lr, verbose=verbose)\n",
    "test(model, X_test, y_test)"
   ]
  },
  {
   "cell_type": "code",
   "execution_count": 148,
   "metadata": {
    "scrolled": false
   },
   "outputs": [
    {
     "name": "stdout",
     "output_type": "stream",
     "text": [
      "number of batches for training: 98\n",
      "5000/49000 loss: 2.4906027017344043\n",
      "10000/49000 loss: 2.25338647148208\n",
      "15000/49000 loss: 2.235136096758088\n",
      "20000/49000 loss: 2.190962268333544\n",
      "25000/49000 loss: 2.1168094371848993\n",
      "30000/49000 loss: 2.0891955977638577\n",
      "35000/49000 loss: 2.038844628775314\n",
      "40000/49000 loss: 2.0503130952886064\n",
      "45000/49000 loss: 1.9891666281094726\n",
      "epoch 1: valid acc = 0.259, new learning rate = 0.00095\n",
      "5000/49000 loss: 1.9240701107116422\n",
      "10000/49000 loss: 1.895561175788457\n",
      "15000/49000 loss: 1.9047533785918085\n",
      "20000/49000 loss: 1.8667177715477317\n",
      "25000/49000 loss: 1.8365794353705829\n",
      "30000/49000 loss: 1.8068908827553702\n",
      "35000/49000 loss: 1.8087353737675604\n",
      "40000/49000 loss: 1.8450203344841156\n",
      "45000/49000 loss: 1.8033133426305537\n",
      "epoch 2: valid acc = 0.397, new learning rate = 0.0009025\n",
      "5000/49000 loss: 1.741161722451213\n",
      "10000/49000 loss: 1.7071055140936662\n",
      "15000/49000 loss: 1.7302375427421004\n",
      "20000/49000 loss: 1.715150767496463\n",
      "25000/49000 loss: 1.7124193577809093\n",
      "30000/49000 loss: 1.708965413437519\n",
      "35000/49000 loss: 1.6934208499387966\n",
      "40000/49000 loss: 1.7549885009844137\n",
      "45000/49000 loss: 1.7125657152361882\n",
      "epoch 3: valid acc = 0.424, new learning rate = 0.000857375\n",
      "5000/49000 loss: 1.6464229403860515\n",
      "10000/49000 loss: 1.6054300072474212\n",
      "15000/49000 loss: 1.6525683192799843\n",
      "20000/49000 loss: 1.6422900799168054\n",
      "25000/49000 loss: 1.6360843579054662\n",
      "30000/49000 loss: 1.6486381821269975\n",
      "35000/49000 loss: 1.6322739655199345\n",
      "40000/49000 loss: 1.6988816829374298\n",
      "45000/49000 loss: 1.6576392807935993\n",
      "epoch 4: valid acc = 0.45, new learning rate = 0.0008145062499999999\n",
      "5000/49000 loss: 1.5857608570744257\n",
      "10000/49000 loss: 1.5422717151306269\n",
      "15000/49000 loss: 1.598874635619499\n",
      "20000/49000 loss: 1.593860059973777\n",
      "25000/49000 loss: 1.581865810007412\n",
      "30000/49000 loss: 1.6064762918692974\n",
      "35000/49000 loss: 1.5874794742362006\n",
      "40000/49000 loss: 1.6589836535960425\n",
      "45000/49000 loss: 1.6205251673110408\n",
      "epoch 5: valid acc = 0.467, new learning rate = 0.0007737809374999998\n",
      "5000/49000 loss: 1.5467342561343258\n",
      "10000/49000 loss: 1.496451989923874\n",
      "15000/49000 loss: 1.5590877961161191\n",
      "20000/49000 loss: 1.5576698598057392\n",
      "25000/49000 loss: 1.540817719566122\n",
      "30000/49000 loss: 1.5715857170449055\n",
      "35000/49000 loss: 1.5541008260736962\n",
      "40000/49000 loss: 1.625035157129921\n",
      "45000/49000 loss: 1.5870254930733836\n",
      "epoch 6: valid acc = 0.476, new learning rate = 0.0007350918906249997\n",
      "5000/49000 loss: 1.5123685373927298\n",
      "10000/49000 loss: 1.461255345697341\n",
      "15000/49000 loss: 1.525220084781632\n",
      "20000/49000 loss: 1.5294539880277778\n",
      "25000/49000 loss: 1.5085785319895617\n",
      "30000/49000 loss: 1.5408596182059608\n",
      "35000/49000 loss: 1.5242730812916432\n",
      "40000/49000 loss: 1.594510671309618\n",
      "45000/49000 loss: 1.557334818050211\n",
      "epoch 7: valid acc = 0.482, new learning rate = 0.0006983372960937497\n",
      "5000/49000 loss: 1.4835702816437775\n",
      "10000/49000 loss: 1.4314040277148004\n",
      "15000/49000 loss: 1.495272473793584\n",
      "20000/49000 loss: 1.5074518130490737\n",
      "25000/49000 loss: 1.4795460000076586\n",
      "30000/49000 loss: 1.5131496367131008\n",
      "35000/49000 loss: 1.4969586532626882\n",
      "40000/49000 loss: 1.5654372840499557\n",
      "45000/49000 loss: 1.5313559165297002\n",
      "epoch 8: valid acc = 0.496, new learning rate = 0.0006634204312890621\n",
      "5000/49000 loss: 1.4575823381055146\n",
      "10000/49000 loss: 1.4047863497782727\n",
      "15000/49000 loss: 1.4700244588195184\n",
      "20000/49000 loss: 1.4901957926143083\n",
      "25000/49000 loss: 1.4565037356645827\n",
      "30000/49000 loss: 1.4894334168029153\n",
      "35000/49000 loss: 1.4722452566867679\n",
      "40000/49000 loss: 1.5425821083775344\n",
      "45000/49000 loss: 1.5123097688209701\n",
      "epoch 9: valid acc = 0.504, new learning rate = 0.000630249409724609\n",
      "5000/49000 loss: 1.4339363115683585\n",
      "10000/49000 loss: 1.378881462313305\n",
      "15000/49000 loss: 1.4467870256571669\n",
      "20000/49000 loss: 1.4716832240065734\n",
      "25000/49000 loss: 1.4373742433601406\n",
      "30000/49000 loss: 1.4689797046929085\n",
      "35000/49000 loss: 1.4497295460180202\n",
      "40000/49000 loss: 1.5189501941673402\n",
      "45000/49000 loss: 1.4948041169830772\n",
      "epoch 10: valid acc = 0.503, new learning rate = 0.0005987369392383785\n",
      "test acc: 0.4897\n"
     ]
    },
    {
     "data": {
      "text/plain": [
       "0.48970000000000002"
      ]
     },
     "execution_count": 148,
     "metadata": {},
     "output_type": "execute_result"
    }
   ],
   "source": [
    "from ecbm4040.classifiers.twolayernet import TwoLayerNet\n",
    "\n",
    "model = TwoLayerNet(input_dim=3072, hidden_dim=100, num_classes=10, reg=0.25, weight_scale=1e-3)\n",
    "\n",
    "num_epoch = 10\n",
    "batch_size = 500\n",
    "lr = 1e-3\n",
    "verbose = True\n",
    "train_acc_hist, val_acc_hist = train(model, X_train, y_train, X_val, y_val, \n",
    "                  num_epoch=num_epoch, batch_size=batch_size, learning_rate=lr, verbose=verbose)\n",
    "test(model, X_test, y_test)"
   ]
  },
  {
   "cell_type": "markdown",
   "metadata": {},
   "source": [
    "<span style=\"color:red\"><strong>TODO</strong></span>: Plot training and validation accuracy history of each epoch"
   ]
  },
  {
   "cell_type": "code",
   "execution_count": 187,
   "metadata": {},
   "outputs": [
    {
     "data": {
      "image/png": "[encoded data removed]",
      "text/plain": [
       "<matplotlib.figure.Figure at 0x11bfdafd0>"
      ]
     },
     "metadata": {},
     "output_type": "display_data"
    }
   ],
   "source": [
    "# plot the accuracy history\n",
    "plt.plot(train_acc_hist, label=\"train accuracy\")\n",
    "plt.plot(val_acc_hist, label=\"validation accuracy\")\n",
    "plt.legend()\n",
    "plt.show()"
   ]
  },
  {
   "cell_type": "markdown",
   "metadata": {},
   "source": [
    "#### Visulize the weight variable in the first layer.\n",
    "\n",
    "Visualization of the intermediate weights can help you get an intuitive understanding of how the network works, especially in  Convolutional Neural Networks (CNNs)."
   ]
  },
  {
   "cell_type": "code",
   "execution_count": 150,
   "metadata": {
    "collapsed": true
   },
   "outputs": [],
   "source": [
    "from ecbm4040.display_funcs import visualize_pics"
   ]
  },
  {
   "cell_type": "code",
   "execution_count": 151,
   "metadata": {},
   "outputs": [
    {
     "name": "stdout",
     "output_type": "stream",
     "text": [
      "num of feature vectors: 100\n"
     ]
    },
    {
     "data": {
      "image/png": "[encoded data removed]",
      "text/plain": [
       "<matplotlib.figure.Figure at 0x116acf4a8>"
      ]
     },
     "metadata": {},
     "output_type": "display_data"
    }
   ],
   "source": [
    "weights = model.layer1.params[0]\n",
    "pics = weights.reshape(3, 32, 32, -1).transpose(3, 1, 2, 0)\n",
    "# visualization\n",
    "visualize_pics(pics)"
   ]
  },
  {
   "cell_type": "markdown",
   "metadata": {},
   "source": [
    "### Get test accuracy greater than 48%\n",
    "\n",
    "For this part, you need to train a better two-layer net. The requirement is to get test accuracy better than 48%. If your accuracy is lower, for each 1% lower than 48%, you will lose 1 point. On the other hand, you will get one extra point for every 1% higher than 52%.\n",
    "\n",
    "Here are some recommended methods for improving the performance. Feel free to try any other method as you see fit.\n",
    "\n",
    "1. Hyperparameter tuning: reg, hidden_dim, lr, learning_decay, num_epoch, batch_size, weight_scale.\n",
    "2. Adjust training strategy: Randomly select a batch of samples rather than selecting them orderly. \n",
    "3. Try new optimization methods: Now we are using SGD, you can try SGD with momentum, adam, etc. For example, if you change SGD into SGD with momentum, then you should get about 2% increase in accuracy.\n",
    "4. Early-stopping.\n",
    "5. Good (better) initial values for weights in the model.\n",
    "6. Try use PCA or other preprocessing methods. (Try task3-dim_reduction.ipynb before finishing this task)\n",
    "\n",
    "A comparison between SGD and SGD with momentum.\n",
    "\n",
    "* Stochastic gradient descent - SGD\n",
    "    ```\n",
    "    w = w - learning_rate * gradient \n",
    "    ```\n",
    "* SGD with momentum\n",
    "    ```\n",
    "    v = momentum*v + learning_rate * gradient\n",
    "    w = w - v\n",
    "    ```\n",
    "    \n",
    "<span style=\"color:red\"><strong>TODO</strong></span>: See below"
   ]
  },
  {
   "cell_type": "code",
   "execution_count": 178,
   "metadata": {},
   "outputs": [
    {
     "name": "stdout",
     "output_type": "stream",
     "text": [
      "number of batches for training: 49\n",
      "10000/49000 loss: 2.372380508739673\n",
      "20000/49000 loss: 2.2690444102725422\n",
      "30000/49000 loss: 2.243106374632455\n",
      "40000/49000 loss: 2.2203891995021996\n",
      "epoch 1: valid acc = 0.22, new learning rate = 0.001425\n",
      "10000/49000 loss: 2.145121201182192\n",
      "20000/49000 loss: 2.0541257871259093\n",
      "30000/49000 loss: 1.9815108368024998\n",
      "40000/49000 loss: 1.9481875900996732\n",
      "epoch 2: valid acc = 0.345, new learning rate = 0.00135375\n",
      "10000/49000 loss: 1.8412346902510355\n",
      "20000/49000 loss: 1.767037125764394\n",
      "30000/49000 loss: 1.7711684081600008\n",
      "40000/49000 loss: 1.788945844543811\n",
      "epoch 3: valid acc = 0.403, new learning rate = 0.0012860624999999999\n",
      "10000/49000 loss: 1.7338548904319668\n",
      "20000/49000 loss: 1.6834403232719048\n",
      "30000/49000 loss: 1.6991003609821527\n",
      "40000/49000 loss: 1.7214667907530867\n",
      "epoch 4: valid acc = 0.436, new learning rate = 0.0012217593749999998\n",
      "10000/49000 loss: 1.6740232010506222\n",
      "20000/49000 loss: 1.6354694626017976\n",
      "30000/49000 loss: 1.6522906706420466\n",
      "40000/49000 loss: 1.6741117036608235\n",
      "epoch 5: valid acc = 0.447, new learning rate = 0.0011606714062499998\n",
      "10000/49000 loss: 1.630046900567821\n",
      "20000/49000 loss: 1.598865454097767\n",
      "30000/49000 loss: 1.615506522821144\n",
      "40000/49000 loss: 1.6349534743688716\n",
      "epoch 6: valid acc = 0.461, new learning rate = 0.0011026378359374998\n",
      "10000/49000 loss: 1.5943762743545737\n",
      "20000/49000 loss: 1.572787591613023\n",
      "30000/49000 loss: 1.5860880869115639\n",
      "40000/49000 loss: 1.6034620643868565\n",
      "epoch 7: valid acc = 0.472, new learning rate = 0.0010475059441406248\n",
      "10000/49000 loss: 1.5670843880589422\n",
      "20000/49000 loss: 1.553051917744455\n",
      "30000/49000 loss: 1.560987945877451\n",
      "40000/49000 loss: 1.5803560607262002\n",
      "epoch 8: valid acc = 0.473, new learning rate = 0.0009951306469335936\n",
      "10000/49000 loss: 1.5432903320553215\n",
      "20000/49000 loss: 1.5367334286413081\n",
      "30000/49000 loss: 1.5407369893951006\n",
      "40000/49000 loss: 1.5609007771567127\n",
      "epoch 9: valid acc = 0.478, new learning rate = 0.0009453741145869139\n",
      "10000/49000 loss: 1.524421809936398\n",
      "20000/49000 loss: 1.5225995497006748\n",
      "30000/49000 loss: 1.5232544670296835\n",
      "40000/49000 loss: 1.544240594902447\n",
      "epoch 10: valid acc = 0.49, new learning rate = 0.0008981054088575681\n",
      "test acc: 0.4698\n"
     ]
    },
    {
     "data": {
      "text/plain": [
       "0.4698"
      ]
     },
     "execution_count": 178,
     "metadata": {},
     "output_type": "execute_result"
    }
   ],
   "source": [
    "# TODO\n",
    "#  from ecbm4040.classifiers.twolayernet import TwoLayerNet\n",
    "\n",
    "# TODO: Use previous layers to create a two layer neural network.\n",
    "# Try several solutions and report the best performing one.\n",
    "# input->(affine->activation)->(affine->softmax)->output\n",
    "# The recommended activation function is ReLU. You can \n",
    "# make a comparison with other activation functions to see\n",
    "# the differences.\n",
    "#\n",
    "# You will need to execute code similar to below, using your parameter specs:\n",
    "#    model = TwoLayerNet(input_dim=TBD, hidden_dim=TBD, num_classes=TBD, reg=TBD, weight_scale=TBD)\n",
    "#    num_epoch = TBD\n",
    "#    batch_size = TBD\n",
    "#    lr = TBD\n",
    "#    verbose = TBD\n",
    "#    train_acc_hist, val_acc_hist = train(TBD)\n",
    "#    test(TBD, TBD, TBD)\n",
    "\n",
    "\n",
    "model = TwoLayerNet(input_dim=3072, hidden_dim=100, num_classes=10, reg=0.5, weight_scale=1e-3)\n",
    "\n",
    "num_epoch = 10\n",
    "batch_size = 1000\n",
    "lr = 1.5e-3\n",
    "verbose = True\n",
    "train_acc_hist, val_acc_hist = train(model, X_train, y_train, X_val, y_val, \n",
    "                  num_epoch=num_epoch, batch_size=batch_size, learning_rate=lr, verbose=verbose)\n",
    "test(model, X_test, y_test)"
   ]
  },
  {
   "cell_type": "markdown",
   "metadata": {},
   "source": [
    "#### <span style=\"color:red\"><strong>TODO</strong></span>: Show your best result, including accuracy and weights of the first layer"
   ]
  },
  {
   "cell_type": "code",
   "execution_count": null,
   "metadata": {
    "collapsed": true
   },
   "outputs": [],
   "source": [
    "# TODO: plot training and validation accuracy"
   ]
  },
  {
   "cell_type": "code",
   "execution_count": null,
   "metadata": {
    "collapsed": true
   },
   "outputs": [],
   "source": [
    "# TODO: Visualize weights"
   ]
  },
  {
   "cell_type": "markdown",
   "metadata": {},
   "source": [
    "### Save your best model in a dictionary "
   ]
  },
  {
   "cell_type": "code",
   "execution_count": null,
   "metadata": {
    "collapsed": true
   },
   "outputs": [],
   "source": [
    "# Create \"save_model\" folder if it does not exist\n",
    "save_dir = \"./save_models/\"\n",
    "if not os.path.exists(save_dir):\n",
    "    os.makedirs(save_dir)\n",
    "\n",
    "# Save your model\n",
    "save_params = model.save_model()\n",
    "with open(\"./save_models/best_model.pkl\", \"wb\") as output_file:\n",
    "    pickle.dump(save_params, output_file)"
   ]
  },
  {
   "cell_type": "code",
   "execution_count": null,
   "metadata": {
    "collapsed": true
   },
   "outputs": [],
   "source": [
    "# Load your model\n",
    "#with open(\"./save_models/best_model.pkl\", \"rb\") as input_file:\n",
    "#    load_params = pickle.load(input_file)\n",
    "    \n",
    "#model.update_model(load_params)"
   ]
  },
  {
   "cell_type": "markdown",
   "metadata": {},
   "source": [
    "## Part 3: Multilayer Net \n",
    "\n",
    "Complete the class **MLP** in **./ecbm4040/classifiers/network.py**. It should allow arbitrary settings for the number of hidden layers as well as the number of hidden neurons in each layer. **MLP** has a similar structure as a **TwoLayerNet** network. Complete the \"<span style=\"color:red\"><strong>TODO</strong></span>\" part.\n",
    "\n",
    "```\n",
    "class MLP:\n",
    "    functions: __init__, loss, step, predict, check_accuracy\n",
    "    variables: layers\n",
    "```"
   ]
  },
  {
   "cell_type": "code",
   "execution_count": 144,
   "metadata": {
    "scrolled": false
   },
   "outputs": [
    {
     "name": "stdout",
     "output_type": "stream",
     "text": [
      "number of batches for training: 98\n",
      "5000/49000 loss: 2.3076443369007396\n",
      "10000/49000 loss: 2.307466231717381\n",
      "15000/49000 loss: 2.3073949676657817\n",
      "20000/49000 loss: 2.3072108615651388\n",
      "25000/49000 loss: 2.3069820492359083\n",
      "30000/49000 loss: 2.3069152993525592\n",
      "35000/49000 loss: 2.306804577849156\n",
      "40000/49000 loss: 2.3066728013830384\n",
      "45000/49000 loss: 2.3060267149867197\n",
      "epoch 1: valid acc = 0.12, new learning rate = 0.0095\n",
      "5000/49000 loss: 2.305166955659212\n",
      "10000/49000 loss: 2.3050517940949113\n",
      "15000/49000 loss: 2.3052152610859773\n",
      "20000/49000 loss: 2.3041145793000766\n",
      "25000/49000 loss: 2.3023965528292445\n",
      "30000/49000 loss: 2.301882524415855\n",
      "35000/49000 loss: 2.30121630681822\n",
      "40000/49000 loss: 2.298779671684873\n",
      "45000/49000 loss: 2.284929680692739\n",
      "epoch 2: valid acc = 0.122, new learning rate = 0.009025\n",
      "5000/49000 loss: 2.2637688580227406\n",
      "10000/49000 loss: 2.275219446243268\n",
      "15000/49000 loss: 2.2799466557967114\n",
      "20000/49000 loss: 2.271201864834829\n",
      "25000/49000 loss: 2.265576242727219\n",
      "30000/49000 loss: 2.2689982538056777\n",
      "35000/49000 loss: 2.27263381966421\n",
      "40000/49000 loss: 2.275200999164838\n",
      "45000/49000 loss: 2.2373521028692167\n",
      "epoch 3: valid acc = 0.132, new learning rate = 0.00857375\n",
      "5000/49000 loss: 2.2216153594793298\n",
      "10000/49000 loss: 2.243187606424624\n",
      "15000/49000 loss: 2.244452902363939\n",
      "20000/49000 loss: 2.2254110624897803\n",
      "25000/49000 loss: 2.225383814021023\n",
      "30000/49000 loss: 2.2071409426493354\n",
      "35000/49000 loss: 2.2247445510499806\n",
      "40000/49000 loss: 2.2306404499163364\n",
      "45000/49000 loss: 2.1708062107285384\n",
      "epoch 4: valid acc = 0.182, new learning rate = 0.0081450625\n",
      "5000/49000 loss: 2.1538577667593097\n",
      "10000/49000 loss: 2.1810023191615984\n",
      "15000/49000 loss: 2.199065987782466\n",
      "20000/49000 loss: 2.178654381480864\n",
      "25000/49000 loss: 2.1847019569770034\n",
      "30000/49000 loss: 2.1510640206969187\n",
      "35000/49000 loss: 2.187633248841528\n",
      "40000/49000 loss: 2.1931615020228334\n",
      "45000/49000 loss: 2.1472684017000567\n",
      "epoch 5: valid acc = 0.192, new learning rate = 0.007737809374999999\n",
      "5000/49000 loss: 2.132245096813308\n",
      "10000/49000 loss: 2.165593906647209\n",
      "15000/49000 loss: 2.1896187210684523\n",
      "20000/49000 loss: 2.170909618451221\n",
      "25000/49000 loss: 2.178920773583128\n",
      "30000/49000 loss: 2.1405665900450717\n",
      "35000/49000 loss: 2.175095665283593\n",
      "40000/49000 loss: 2.180527763751491\n",
      "45000/49000 loss: 2.140984934197481\n",
      "epoch 6: valid acc = 0.194, new learning rate = 0.007350918906249998\n",
      "5000/49000 loss: 2.123171961522685\n",
      "10000/49000 loss: 2.159712259594363\n",
      "15000/49000 loss: 2.183336641782242\n",
      "20000/49000 loss: 2.1663473542329745\n",
      "25000/49000 loss: 2.1732169643048374\n",
      "30000/49000 loss: 2.135162311391993\n",
      "35000/49000 loss: 2.1668055937974393\n",
      "40000/49000 loss: 2.1726101435020984\n",
      "45000/49000 loss: 2.13560265031369\n",
      "epoch 7: valid acc = 0.197, new learning rate = 0.006983372960937498\n",
      "5000/49000 loss: 2.1165176658447136\n",
      "10000/49000 loss: 2.1550255329787125\n",
      "15000/49000 loss: 2.177456489679693\n",
      "20000/49000 loss: 2.161982316574631\n",
      "25000/49000 loss: 2.167178907903616\n",
      "30000/49000 loss: 2.130662495566704\n",
      "35000/49000 loss: 2.1602742359872167\n",
      "40000/49000 loss: 2.1660198549479914\n",
      "45000/49000 loss: 2.1308351850232783\n",
      "epoch 8: valid acc = 0.2, new learning rate = 0.006634204312890623\n",
      "5000/49000 loss: 2.1108619462111036\n",
      "10000/49000 loss: 2.150598733975759\n",
      "15000/49000 loss: 2.1719956877815556\n",
      "20000/49000 loss: 2.1576322853821517\n",
      "25000/49000 loss: 2.1614119015339393\n",
      "30000/49000 loss: 2.126313005130419\n",
      "35000/49000 loss: 2.154638749098482\n",
      "40000/49000 loss: 2.1598569304782824\n",
      "45000/49000 loss: 2.126756341433051\n",
      "epoch 9: valid acc = 0.199, new learning rate = 0.006302494097246091\n",
      "5000/49000 loss: 2.105698370874652\n",
      "10000/49000 loss: 2.145944931370055\n",
      "15000/49000 loss: 2.166792529062603\n",
      "20000/49000 loss: 2.1533628856978946\n",
      "25000/49000 loss: 2.1558105054853853\n",
      "30000/49000 loss: 2.122377064046937\n",
      "35000/49000 loss: 2.149511379838018\n",
      "40000/49000 loss: 2.1536389472901805\n",
      "45000/49000 loss: 2.1229563314038695\n",
      "epoch 10: valid acc = 0.196, new learning rate = 0.005987369392383786\n",
      "test acc: 0.1849\n"
     ]
    },
    {
     "data": {
      "text/plain": [
       "0.18490000000000001"
      ]
     },
     "execution_count": 144,
     "metadata": {},
     "output_type": "execute_result"
    }
   ],
   "source": [
    "from ecbm4040.classifiers.mlp import MLP\n",
    "\n",
    "# TODO: Use a sequence of layers to create a multiple layer neural network\n",
    "# input->(affine->activation)-> ... ->(affine->activation)->(affine->softmax)->output\n",
    "model = MLP(input_dim=3072, hidden_dims=[100, 50, 50], num_classes=10, reg=0.1, weight_scale=1e-3)\n",
    "\n",
    "num_epoch = 10\n",
    "batch_size = 500\n",
    "lr = 1e-2\n",
    "verbose = True\n",
    "train_acc_hist, val_acc_hist = train(model, X_train, y_train, X_val, y_val, \n",
    "                  num_epoch=num_epoch, batch_size=batch_size, learning_rate=lr, verbose=verbose)\n",
    "test(model, X_test, y_test)"
   ]
  },
  {
   "cell_type": "markdown",
   "metadata": {},
   "source": [
    "## Part 4: Tensorflow MLP\n",
    "In this part, you will use tensorflow modules to implement a MLP. We provide a demo of a two-layer net. You need to implement a multi-layer with 3 or 4 layers."
   ]
  },
  {
   "cell_type": "code",
   "execution_count": 169,
   "metadata": {},
   "outputs": [
    {
     "name": "stdout",
     "output_type": "stream",
     "text": [
      "epoch 1: valid acc = 0.20800000429153442\n",
      "epoch 2: valid acc = 0.2669999897480011\n",
      "epoch 3: valid acc = 0.3160000145435333\n",
      "epoch 4: valid acc = 0.3709999918937683\n",
      "epoch 5: valid acc = 0.35899999737739563\n",
      "epoch 6: valid acc = 0.3840000033378601\n",
      "epoch 7: valid acc = 0.4050000011920929\n",
      "epoch 8: valid acc = 0.4129999876022339\n",
      "epoch 9: valid acc = 0.4230000078678131\n",
      "epoch 10: valid acc = 0.4309999942779541\n",
      "test acc = 0.4309999942779541\n"
     ]
    }
   ],
   "source": [
    "# Demo: Two-layer net in tensorflow.\n",
    "hidden_dim = 100\n",
    "reg_tf = tf.constant(0.01)\n",
    "\n",
    "x_tf = tf.placeholder(tf.float32, shape=(None, 3072))\n",
    "y_tf = tf.placeholder(tf.int64, shape=(None,))\n",
    "\n",
    "W1_tf = tf.Variable(1e-2*np.random.rand(3072, hidden_dim).astype('float32'))\n",
    "b1_tf = tf.Variable(np.zeros((hidden_dim,)).astype('float32'))\n",
    "W2_tf = tf.Variable(1e-2*np.random.rand(hidden_dim, 10).astype('float32'))\n",
    "b2_tf = tf.Variable(np.zeros((10,)).astype('float32'))\n",
    "\n",
    "h1_tf = tf.nn.relu(tf.matmul(x_tf, W1_tf) + b1_tf)\n",
    "h2_tf = tf.matmul(h1_tf, W2_tf) + b2_tf\n",
    "cross_entropy = tf.nn.softmax_cross_entropy_with_logits(logits= h2_tf, labels=tf.one_hot(y_tf,10))\n",
    "L2_loss = tf.nn.l2_loss(W1_tf) + tf.nn.l2_loss(W2_tf)\n",
    "loss_tf = tf.reduce_mean(cross_entropy) + reg_tf*L2_loss \n",
    "\n",
    "init = tf.global_variables_initializer()\n",
    "train_step = tf.train.GradientDescentOptimizer(1e-3).minimize(loss_tf)\n",
    "correct_prediction = tf.equal(y_tf, tf.argmax(h2_tf,1))\n",
    "accuracy = tf.reduce_mean(tf.cast(correct_prediction, tf.float32))\n",
    "\n",
    "num_train = 49000\n",
    "batch_size = 500\n",
    "num_batch = num_train//batch_size\n",
    "with tf.Session() as sess:\n",
    "    sess.run(init)\n",
    "    for e in range(10):\n",
    "        for i in range(num_batch):\n",
    "            batch_xs, batch_ys = X_train[i*batch_size:(i+1)*batch_size], y_train[i*batch_size:(i+1)*batch_size]\n",
    "            sess.run(train_step, feed_dict={x_tf: batch_xs, y_tf: batch_ys})\n",
    "        val_acc = sess.run(accuracy, feed_dict={x_tf: X_val, y_tf: y_val})\n",
    "        print('epoch {}: valid acc = {}'.format(e+1, val_acc))\n",
    "    \n",
    "    test_acc = sess.run(accuracy, feed_dict={x_tf: X_val, y_tf: y_val})\n",
    "    print('test acc = {}'.format(test_acc))"
   ]
  },
  {
   "cell_type": "markdown",
   "metadata": {},
   "source": [
    "<span style=\"color:red\"><strong>TODO</strong></span>: Create your MLP in tensorflow. Since you are going to create a deeper neural network, it is recommended to use \"list\" or \"dictionary\" to store your network parameters, ie., weights and bias. Besides, consider to use a loop to create your MLP network."
   ]
  },
  {
   "cell_type": "code",
   "execution_count": 177,
   "metadata": {},
   "outputs": [
    {
     "name": "stdout",
     "output_type": "stream",
     "text": [
      "epoch 1: valid acc = 0.2669999897480011\n",
      "epoch 2: valid acc = 0.3240000009536743\n",
      "epoch 3: valid acc = 0.36899998784065247\n",
      "epoch 4: valid acc = 0.3880000114440918\n",
      "epoch 5: valid acc = 0.4020000100135803\n",
      "epoch 6: valid acc = 0.414000004529953\n",
      "epoch 7: valid acc = 0.421999990940094\n",
      "epoch 8: valid acc = 0.4309999942779541\n",
      "epoch 9: valid acc = 0.4359999895095825\n",
      "epoch 10: valid acc = 0.4350000023841858\n",
      "test acc = 0.4350000023841858\n"
     ]
    }
   ],
   "source": [
    "# For example\n",
    "#weights = {\n",
    "#    'w1': tf.Variable(),\n",
    "#    'w2': tf.Variable()),\n",
    "#    'w3': tf.Variable()),\n",
    "#    'w4': tf.Variable()),\n",
    "#    ...\n",
    "#}\n",
    "\n",
    "# Store layers weight & bias\n",
    "\n",
    "\n",
    "x_tf = tf.placeholder(tf.float32, shape=(None, 3072))\n",
    "y_tf = tf.placeholder(tf.int64, shape=(None,))\n",
    "\n",
    "n_input=3072\n",
    "n_classes=10\n",
    "n_hidden_1 = 200\n",
    "n_hidden_2 = 100\n",
    "reg_tf = tf.constant(0.01)\n",
    "\n",
    "\n",
    "\n",
    "weights = {\n",
    "    'w1': tf.Variable(1e-2*tf.random_normal([n_input, n_hidden_1])),\n",
    "    'w2': tf.Variable(1e-2*tf.random_normal([n_hidden_1, n_hidden_2])),\n",
    "    'w3': tf.Variable(1e-2*tf.random_normal([n_hidden_2, n_classes]))\n",
    "}\n",
    "biases = {\n",
    "    'b1': tf.Variable(np.zeros([n_hidden_1]).astype('float32')),\n",
    "    'b2': tf.Variable(np.zeros([n_hidden_2]).astype('float32')),\n",
    "    'b3': tf.Variable(np.zeros([n_classes]).astype('float32'))\n",
    "}\n",
    "\n",
    "out=x_tf\n",
    "for i in range(1,len(weights)+1):\n",
    "    out=tf.nn.relu(tf.matmul(out, weights[\"w\"+str(i)]) + biases[\"b\"+str(i)])\n",
    "cross_entropy = tf.nn.softmax_cross_entropy_with_logits(logits= out, labels=tf.one_hot(y_tf,10))\n",
    "\n",
    "L2_loss=tf.Variable(0, dtype=tf.float32)\n",
    "\n",
    "for i in range(1,len(weights)+1):\n",
    "    L2_loss += tf.nn.l2_loss(weights[\"w\"+str(i)])\n",
    "\n",
    "loss_tf = tf.reduce_mean(cross_entropy) + reg_tf*L2_loss\n",
    "\n",
    "init = tf.global_variables_initializer()\n",
    "train_step = tf.train.GradientDescentOptimizer(1e-3).minimize(loss_tf)\n",
    "correct_prediction = tf.equal(y_tf, tf.argmax(out,1))\n",
    "accuracy = tf.reduce_mean(tf.cast(correct_prediction, tf.float32))\n",
    "\n",
    "\n",
    "epochs=10\n",
    "num_train = 49000\n",
    "batch_size = 500\n",
    "num_batch = num_train//batch_size\n",
    "with tf.Session() as sess:\n",
    "    sess.run(init)\n",
    "    for e in range(epochs):\n",
    "        for i in range(num_batch):\n",
    "            batch_xs, batch_ys = X_train[i*batch_size:(i+1)*batch_size], y_train[i*batch_size:(i+1)*batch_size]\n",
    "            sess.run(train_step, feed_dict={x_tf: batch_xs, y_tf: batch_ys})\n",
    "        val_acc = sess.run(accuracy, feed_dict={x_tf: X_val, y_tf: y_val})\n",
    "        print('epoch {}: valid acc = {}'.format(e+1, val_acc))\n",
    "    \n",
    "    test_acc = sess.run(accuracy, feed_dict={x_tf: X_val, y_tf: y_val})\n",
    "    print('test acc = {}'.format(test_acc))"
   ]
  }
 ],
 "metadata": {
  "kernelspec": {
   "display_name": "Python [conda env:dlWorks]",
   "language": "python",
   "name": "conda-env-dlWorks-py"
  },
  "language_info": {
   "codemirror_mode": {
    "name": "ipython",
    "version": 3
   },
   "file_extension": ".py",
   "mimetype": "text/x-python",
   "name": "python",
   "nbconvert_exporter": "python",
   "pygments_lexer": "ipython3",
   "version": "3.5.4"
  }
 },
 "nbformat": 4,
 "nbformat_minor": 2
}
