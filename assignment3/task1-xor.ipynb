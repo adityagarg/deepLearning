{
 "cells": [
  {
   "cell_type": "markdown",
   "metadata": {},
   "source": [
    "# Task 1: XOR"
   ]
  },
  {
   "cell_type": "code",
   "execution_count": 1,
   "metadata": {
    "collapsed": true
   },
   "outputs": [],
   "source": [
    "# Import modules\n",
    "from __future__ import print_function\n",
    "import tensorflow as tf\n",
    "import numpy as np\n",
    "from numpy.random import shuffle\n",
    "import time\n",
    "import matplotlib.pyplot as plt\n",
    "\n",
    "# Plot configurations\n",
    "% matplotlib inline\n",
    "\n",
    "# Notebook auto reloads code. (Ref: http://stackoverflow.com/questions/1907993/autoreload-of-modules-in-ipython)\n",
    "% load_ext autoreload\n",
    "% autoreload 2"
   ]
  },
  {
   "cell_type": "markdown",
   "metadata": {},
   "source": [
    "## Task 1, Part 1: Backpropagation through time (BPTT)"
   ]
  },
  {
   "cell_type": "markdown",
   "metadata": {},
   "source": [
    "**Question:** Consider a simple RNN network shown in the following figure, where __ _wi, wh, b, a, c_ __ are the scalar parameters of the network. The loss function is the **mean squared error (MSE)**. Given input (x0, x1) = (1, 0), ground truth (g1, g2) = (1, 1), h0 = 0, (wi, wh, b, a, c) = (1, 1, 1, 1, 1), compute __ _(dwi, dwh, db, da, dc)_ __, which are the gradients of loss with repect to 5 parameters __ _(wi, wh, b, a, c)_ __.\n",
    "\n",
    "![bptt](img/bptt.png)"
   ]
  },
  {
   "cell_type": "markdown",
   "metadata": {},
   "source": [
    "<span style=\"color:red\">TODO:</span>\n",
    "\n",
    "Answer the above question. \n",
    "\n",
    "* **[fill in here: Enter your derivations and the computational process]**\n",
    "* You can use LATEX to edit the equations, and Jupyter notebook can recognize basic LATEX syntax. Alternatively, you can edit equations in some other environment and then paste the screenshot of the equations here.\n",
    "\n",
    "\n",
    "**Forward Pass:**\n",
    "$$\n",
    "\\begin{align}\n",
    "h_1 & = \\sigma( wi \\times x + wh\\times h + b) = \\sigma(1\\times1 + 1\\times0 + 1) = \\sigma(2) = 0.881 \\\\\n",
    "y_1 & = a\\times h + c = 1\\times0.881 + 1 = 1.881 \\\\\n",
    "h_2 & = \\sigma( 1\\times0 + 1\\times0.881 + 1) = 0.868 \\\\\n",
    "y_2 & = 1\\times0.868 + 1 = 1.868\n",
    "\\end{align}\n",
    "$$\n",
    "**Backprop (t = 1):**\n",
    "$$\n",
    "\\begin{align}\n",
    "Loss & = L_1  = (y_1 - \\hat{y}_1)^{2} \\\\\n",
    "\\partial y_1 & = 2\\, (y_1 - \\hat{y}_1) = 2 \\times 0.881 = 1.762 \\\\\n",
    "\\partial a_1 & = \\partial y_1\\, \\frac{\\partial y_1}{\\partial a} = \\partial y_1\\, h_1 = 1.762 \\times 0.881 = 1.552 \\\\ \n",
    "\\partial c_1 & = \\partial y_1\\, \\frac{\\partial y_1}{\\partial c} = \\partial y_1\\ = 1.762 \\\\\n",
    "\\partial h_1 & = \\partial y_1\\, \\frac{\\partial y_1}{\\partial h_1} = \\partial y_1\\, a = 1.762 \\\\\n",
    "\\partial wi_1 & =  \\partial h_1\\, \\frac{\\partial h_1}{\\partial wi_1} \\\\\n",
    "& = 1.762 \\times h_1\\, (1 - h_1)\\, x_0 \\\\\n",
    "& = 1.762 \\times 0.881 \\times 0.119 \\times 1 \\\\\n",
    "& = 0.185 \\\\\n",
    "\\partial wh_1 & = \\partial h_1\\, \\frac{\\partial h_1}{\\partial wh_1} \\\\\n",
    "& = 1.762 \\times h_1\\, (1 - h_1)\\, h_0 \\\\\n",
    "& = 1.762 \\times 0.881 \\times 0.119 \\times 0 \\\\\n",
    "& = 0 \\\\\n",
    "\\partial b_1 & = \\partial h_1\\, \\frac{\\partial h_1}{\\partial b_1} \\\\\n",
    "& = 1.762 \\times h_1\\, (1 - h_1) \\\\\n",
    "& = 1.762 \\times 0.881 \\times 0.119\\\\\n",
    "& = 0.185 \\\\\n",
    "\\end{align}\n",
    "$$\n",
    "**Backprop (t = 2):**\n",
    "$$\n",
    "\\begin{align}\n",
    "L_2 & = (y_2 - \\hat{y}_2)^{2} \\\\\n",
    "\\partial y_2 & = 2\\, (y2 - \\hat{y}2) = 2 \\times 0.868 = 1.736 \\\\\n",
    "\\partial a_2 & = \\partial y_2\\, \\frac{\\partial y_2}{\\partial a} = \\partial y_2\\, h_2 = 1.736 \\times 0.868 = 1.507 \\\\ \n",
    "\\partial c_2 & = \\partial y_2\\, \\frac{\\partial y_2}{\\partial c} = \\partial y_2\\ = 1.736 \\\\\n",
    "\\partial h_2 & = \\partial y_2\\, \\frac{\\partial y_2}{\\partial h_2} = \\partial y_2\\, a = 1.736 \\\\\n",
    "\\partial wi_2 & =  \\partial h_2\\, \\frac{\\partial h_2}{\\partial wi_2} \\\\\n",
    "& = \\partial h_2\\, h_2\\, (1 - h_2)\\, (x_1 + wh\\, \\frac{\\partial h_1}{\\partial wi}) \\\\\n",
    "& = \\partial h_2\\, h_2\\, (1 - h_2)\\, (x_1 + h_1\\, (1 - h_1)\\, x_0) \\\\\n",
    "& = 1.736 \\times 0.868 \\times 0.132 \\times (0 + 0.881 \\times 0.119 \\times 1) \\\\\n",
    "& = 0.021 \\\\\n",
    "\\partial wh_2 & =  \\partial h_2\\, \\frac{\\partial h_2}{\\partial wh_2} \\\\\n",
    "& = \\partial h_2\\, h_2\\, (1 - h_2)\\, (h_1 + wh\\, \\frac{\\partial h_1}{\\partial wh}) \\\\\n",
    "& = \\partial h_2\\, h_2\\, (1 - h_2)\\, (h_1 + h_1\\, (1 - h_1)\\, h_0) \\\\\n",
    "& = 1.736 \\times 0.868 \\times 0.132 \\times (0.881 + 0.881 \\times 0.119 \\times 0) \\\\\n",
    "& = 0.175 \\\\\n",
    "\\partial b_2 & =  \\partial h_2\\, \\frac{\\partial h_2}{\\partial b_2} \\\\\n",
    "& = \\partial h_2\\, h_2\\, (1 - h_2)\\, (1 + \\frac{\\partial h_1}{\\partial b}) \\\\\n",
    "& = \\partial h_2\\, h_2\\, (1 - h_2)\\, (h1 + h_1\\, (1 - h_1)) \\\\\n",
    "& = 1.736 \\times 0.868 \\times 0.132 \\times (1 + 0.881 \\times 0.119) \\\\\n",
    "& = 0.219 \\\\\n",
    "\\end{align}\n",
    "$$\n",
    "$\n",
    "\\partial \\textbf{wi}, \\partial \\textbf {wh}, \\partial \\textbf {b}, \\partial \\textbf {a}, \\partial \\textbf {c}:\n",
    "$\n",
    "$$\n",
    "\\begin{align}\n",
    "\\partial wi & = \\partial wi_1 + \\partial wi_2 = 0.206 \\\\\n",
    "\\partial wh & = \\partial wh_1 + \\partial wh_2 = 0.175 \\\\\n",
    "\\partial a & = \\partial a_1 + \\partial a_2 = 3.059 \\\\\n",
    "\\partial b & = \\partial b_1 + \\partial b_2 = 0.404 \\\\\n",
    "\\partial c & = \\partial c_1 + \\partial c_2 = 3.498 \\\\\n",
    "\\end{align}\n",
    "$$"
   ]
  },
  {
   "cell_type": "markdown",
   "metadata": {},
   "source": [
    "## Task 1, Part 2: Use tensorflow modules to create XOR network\n",
    "\n",
    "In this part, you need to build and train an XOR network that can learn the XOR function. It is a very simple implementation of RNN and will give you an idea how RNN is built and how to train it."
   ]
  },
  {
   "cell_type": "markdown",
   "metadata": {},
   "source": [
    "### XOR network\n",
    "\n",
    "XOR network can learn the XOR $\\oplus$ function\n",
    "\n",
    "As shown in the figure below, and for instance, if input $(x0, x1, x2)$=(1,0,0), then output $(y1, y2, y3)$=(1,1,1). That is, $y_n = x_0\\oplus x_1 \\oplus ... \\oplus x_{n-1}$\n",
    "\n",
    "![xor_net](./img/xor.png)"
   ]
  },
  {
   "cell_type": "markdown",
   "metadata": {},
   "source": [
    "### Create data set\n",
    "This function provides you the way to generate the data which is required for the training process. You should utilize it when building your training function for the LSTM. Please read the source code for more information."
   ]
  },
  {
   "cell_type": "code",
   "execution_count": 2,
   "metadata": {
    "collapsed": true
   },
   "outputs": [],
   "source": [
    "from ecbm4040.xor.utils import create_dataset"
   ]
  },
  {
   "cell_type": "code",
   "execution_count": 48,
   "metadata": {},
   "outputs": [
    {
     "name": "stdout",
     "output_type": "stream",
     "text": [
      "Train data shape:  (800, 8, 1)\n",
      "Train labels shape:  (800, 8)\n",
      "Validation data shape:  (200, 8, 1)\n",
      "Validation labels shape:  (200, 8)\n"
     ]
    }
   ],
   "source": [
    "#Create Data\n",
    "\n",
    "#Create dataset\n",
    "num_samples=1000\n",
    "fraction_validation=0.2\n",
    "X_train, y_train = create_dataset(num_samples)\n",
    "\n",
    "# Data organizations:\n",
    "\n",
    "num_validation = int(fraction_validation*num_samples)\n",
    "\n",
    "X_val = X_train[-num_validation:, :, :]\n",
    "y_val = y_train[-num_validation:, :]\n",
    "\n",
    "X_train = X_train[:-num_validation, :, :]\n",
    "y_train = y_train[:-num_validation, :]\n",
    "\n",
    "print('Train data shape: ', X_train.shape)\n",
    "print('Train labels shape: ', y_train.shape)\n",
    "print('Validation data shape: ', X_val.shape)\n",
    "print('Validation labels shape: ', y_val.shape)"
   ]
  },
  {
   "cell_type": "markdown",
   "metadata": {},
   "source": [
    "### Build a network using a Tensorlow LSTMCell\n",
    "This section shows an example how to build a RNN network using an LSTM cell. LSTM cell is an inbuilt class in tensorflow which implements the real behavior of the LSTM neuron. \n",
    "\n",
    "Reference: [TensorFlow LSTM cell](https://www.tensorflow.org/api_docs/python/tf/contrib/rnn/LSTMCell)"
   ]
  },
  {
   "cell_type": "code",
   "execution_count": 50,
   "metadata": {},
   "outputs": [],
   "source": [
    "from tensorflow.contrib.rnn import LSTMCell\n",
    "\n",
    "tf.reset_default_graph()\n",
    "\n",
    "# Input shape: (num_samples, seq_length, input_dimension)\n",
    "# Output shape: (num_samples, output_ground_truth), and output_ground_truth is 0/1. \n",
    "input_data = tf.placeholder(tf.float32,shape=[None,None,1])\n",
    "output_data = tf.placeholder(tf.int64,shape=[None,None])\n",
    "\n",
    "# define LSTM cell\n",
    "lstm_units = 64\n",
    "cell = LSTMCell(lstm_units,num_proj=2,state_is_tuple=True)\n",
    "\n",
    "# create LSTM network: you can also choose other modules provided by tensorflow, like static_rnn etc.\n",
    "out,_ = tf.nn.dynamic_rnn(cell,input_data,dtype=tf.float32)\n",
    "pred = tf.argmax(out,axis=2)\n",
    "\n",
    "# loss function\n",
    "loss = tf.reduce_mean(tf.nn.sparse_softmax_cross_entropy_with_logits(labels=output_data,logits=out))\n",
    "\n",
    "# optimization\n",
    "optimizer = tf.train.AdamOptimizer(learning_rate=0.1).minimize(loss)\n",
    "\n",
    "# accuracy\n",
    "correct_num = tf.equal(output_data,pred)\n",
    "accuracy = tf.reduce_mean(tf.cast(correct_num,tf.float32))"
   ]
  },
  {
   "cell_type": "markdown",
   "metadata": {},
   "source": [
    "### Training \n",
    "\n",
    "<span style='color:red'>TODO:</span> \n",
    "1. Build your training funciton for RNN; \n",
    "2. Plot the cost during the traning"
   ]
  },
  {
   "cell_type": "code",
   "execution_count": 51,
   "metadata": {
    "scrolled": true
   },
   "outputs": [
    {
     "name": "stdout",
     "output_type": "stream",
     "text": [
      "number of batches for training: 8\n",
      "epoch 1 \n",
      "100/800 loss: 0.7052947282791138\n",
      "200/800 loss: 0.7495351433753967\n",
      "300/800 loss: 0.7054566144943237\n",
      "400/800 loss: 0.700731635093689\n",
      "500/800 loss: 0.6955520510673523\n",
      "600/800 loss: 0.6873228549957275\n",
      "700/800 loss: 0.6884006261825562\n",
      "800/800 loss: 0.688022792339325\n",
      "epoch 2 \n",
      "100/800 loss: 0.6827296614646912\n",
      "200/800 loss: 0.681915283203125\n",
      "300/800 loss: 0.6842654347419739\n",
      "400/800 loss: 0.6752803325653076\n",
      "500/800 loss: 0.6620873212814331\n",
      "600/800 loss: 0.6191584467887878\n",
      "700/800 loss: 0.6121265888214111\n",
      "800/800 loss: 0.5469506978988647\n",
      "epoch 3 \n",
      "100/800 loss: 0.5443734526634216\n",
      "200/800 loss: 0.6011295318603516\n",
      "300/800 loss: 0.5922192335128784\n",
      "400/800 loss: 0.5067797303199768\n",
      "500/800 loss: 0.372730016708374\n",
      "600/800 loss: 0.40567222237586975\n",
      "700/800 loss: 0.2807943522930145\n",
      "800/800 loss: 0.2102794051170349\n",
      "epoch 4 \n",
      "100/800 loss: 0.22637870907783508\n",
      "200/800 loss: 0.14936980605125427\n",
      "300/800 loss: 0.11247143894433975\n",
      "400/800 loss: 0.1034536063671112\n",
      "500/800 loss: 0.09674568474292755\n",
      "600/800 loss: 0.06522183865308762\n",
      "700/800 loss: 0.04202813282608986\n",
      "800/800 loss: 0.03385821729898453\n",
      "epoch 5 \n",
      "100/800 loss: 0.030437909066677094\n",
      "200/800 loss: 0.02456413209438324\n",
      "300/800 loss: 0.020862720906734467\n",
      "400/800 loss: 0.01479398924857378\n",
      "500/800 loss: 0.011023594997823238\n",
      "600/800 loss: 0.009198831394314766\n",
      "700/800 loss: 0.008084475994110107\n",
      "800/800 loss: 0.007509218528866768\n",
      "epoch 6 \n",
      "100/800 loss: 0.006051389966160059\n",
      "200/800 loss: 0.004420012701302767\n",
      "300/800 loss: 0.0035286014899611473\n",
      "400/800 loss: 0.002780311740934849\n",
      "500/800 loss: 0.002262864960357547\n",
      "600/800 loss: 0.0018672540318220854\n",
      "700/800 loss: 0.0015904477331787348\n",
      "800/800 loss: 0.0015007961774244905\n",
      "epoch 7 \n",
      "100/800 loss: 0.0014296475565060973\n",
      "200/800 loss: 0.0013095082249492407\n",
      "300/800 loss: 0.0012378408573567867\n",
      "400/800 loss: 0.0010975372279062867\n",
      "500/800 loss: 0.0009848560439422727\n",
      "600/800 loss: 0.000793313782196492\n",
      "700/800 loss: 0.0007693416555412114\n",
      "800/800 loss: 0.0006641555810347199\n",
      "epoch 8 \n",
      "100/800 loss: 0.000630116555839777\n",
      "200/800 loss: 0.0005497923120856285\n",
      "300/800 loss: 0.000501582573633641\n",
      "400/800 loss: 0.0004632350755855441\n",
      "500/800 loss: 0.00041562289698049426\n",
      "600/800 loss: 0.00039311646833084524\n",
      "700/800 loss: 0.00036548395291902125\n",
      "800/800 loss: 0.00035261965240351856\n",
      "epoch 9 \n",
      "100/800 loss: 0.0003491363604553044\n",
      "200/800 loss: 0.0003307860461063683\n",
      "300/800 loss: 0.0003150606935378164\n",
      "400/800 loss: 0.000313772790832445\n",
      "500/800 loss: 0.0002931149792857468\n",
      "600/800 loss: 0.0002927827590610832\n",
      "700/800 loss: 0.00026542897103354335\n",
      "800/800 loss: 0.0002585641050245613\n",
      "epoch 10 \n",
      "100/800 loss: 0.00025216059293597937\n",
      "200/800 loss: 0.00023468249128200114\n",
      "300/800 loss: 0.00022560523939318955\n",
      "400/800 loss: 0.0002212988183600828\n",
      "500/800 loss: 0.00020871571905445307\n",
      "600/800 loss: 0.0002017403458012268\n",
      "700/800 loss: 0.0001893328153528273\n",
      "800/800 loss: 0.00018553584231995046\n",
      "epoch 11 \n",
      "100/800 loss: 0.00018364485003985465\n",
      "200/800 loss: 0.0001726324117043987\n",
      "300/800 loss: 0.00016976665938273072\n",
      "400/800 loss: 0.0001674774830462411\n",
      "500/800 loss: 0.00016145386325661093\n",
      "600/800 loss: 0.00015650030400138348\n",
      "700/800 loss: 0.00015172906569205225\n",
      "800/800 loss: 0.00015060945588629693\n",
      "epoch 12 \n",
      "100/800 loss: 0.00015125915524549782\n",
      "200/800 loss: 0.00014552469656337053\n",
      "300/800 loss: 0.00014445283159147948\n",
      "400/800 loss: 0.00014306734374258667\n",
      "500/800 loss: 0.00013936409959569573\n",
      "600/800 loss: 0.000135495574795641\n",
      "700/800 loss: 0.00013300251157488674\n",
      "800/800 loss: 0.00013217002560850233\n",
      "epoch 13 \n",
      "100/800 loss: 0.00013287083129398525\n",
      "200/800 loss: 0.00012835735105909407\n",
      "300/800 loss: 0.0001276380498893559\n",
      "400/800 loss: 0.0001260877470485866\n",
      "500/800 loss: 0.00012317603977862746\n",
      "600/800 loss: 0.00011980338604189456\n",
      "700/800 loss: 0.00011751108104363084\n",
      "800/800 loss: 0.00011712694686139002\n",
      "epoch 14 \n",
      "100/800 loss: 0.00011763127258745953\n",
      "200/800 loss: 0.00011381813237676397\n",
      "300/800 loss: 0.00011348116822773591\n",
      "400/800 loss: 0.00011248925875406712\n",
      "500/800 loss: 0.00011019620433216915\n",
      "600/800 loss: 0.00010784635378513485\n",
      "700/800 loss: 0.00010545973054831848\n",
      "800/800 loss: 0.00010569682490313426\n",
      "epoch 15 \n",
      "100/800 loss: 0.0001061827497323975\n",
      "200/800 loss: 0.00010295582615071908\n",
      "300/800 loss: 0.00010277647379552945\n",
      "400/800 loss: 0.00010231841588392854\n",
      "500/800 loss: 0.00010033724538516253\n",
      "600/800 loss: 9.873491944745183e-05\n",
      "700/800 loss: 9.648814739193767e-05\n",
      "800/800 loss: 9.696858614915982e-05\n",
      "Traning ends.\n"
     ]
    }
   ],
   "source": [
    "epoch=15\n",
    "batch_size=100\n",
    "\n",
    "iters = int(X_train.shape[0] / batch_size)\n",
    "print('number of batches for training: {}'.format(iters))\n",
    "\n",
    "iter_total = 0\n",
    "best_acc = 0\n",
    "losses=[]\n",
    "with tf.Session() as sess:\n",
    "    sess.run(tf.global_variables_initializer())\n",
    "    for epc in range(epoch):\n",
    "        print(\"epoch {} \".format(epc + 1))\n",
    "\n",
    "        for itr in range(iters):\n",
    "\n",
    "            training_batch_x = X_train[itr * batch_size: (1 + itr) * batch_size]\n",
    "            training_batch_y = y_train[itr * batch_size: (1 + itr) * batch_size]\n",
    "\n",
    "            _, cur_loss = sess.run([optimizer, loss], feed_dict={input_data: training_batch_x, output_data: training_batch_y})\n",
    "            print('{}/{} loss: {}'.format(\n",
    "                    batch_size * (itr + 1),\n",
    "                    X_train.shape[0],\n",
    "                    cur_loss))\n",
    "            losses.append(cur_loss)\n",
    "print(\"Traning ends.\")"
   ]
  },
  {
   "cell_type": "code",
   "execution_count": 52,
   "metadata": {},
   "outputs": [
    {
     "data": {
      "text/plain": [
       "<matplotlib.legend.Legend at 0x11f639748>"
      ]
     },
     "execution_count": 52,
     "metadata": {},
     "output_type": "execute_result"
    },
    {
     "data": {
      "image/png": "[encoded data removed]",
      "text/plain": [
       "<matplotlib.figure.Figure at 0x11f62ab70>"
      ]
     },
     "metadata": {},
     "output_type": "display_data"
    }
   ],
   "source": [
    "#Plotting loss vs epochs\n",
    "plt.figure(figsize=(10,8))\n",
    "plt.plot(losses, label=\"loss\")\n",
    "plt.legend()"
   ]
  },
  {
   "cell_type": "markdown",
   "metadata": {
    "collapsed": true
   },
   "source": [
    "## Task 1, Part 3 :  Build your own LSTMCell\n",
    "In this part, you need to build your own LSTM cell to achieve the LSTM functionality. \n",
    "\n",
    "<span style=\"color:red\">TODO:</span> \n",
    "1. Finish class **MyLSTMCell** in ecbm4040/xor/rnn.py;\n",
    "2. Write the training function for your RNN;\n",
    "3. Plot the cost during training."
   ]
  },
  {
   "cell_type": "code",
   "execution_count": 58,
   "metadata": {
    "scrolled": false
   },
   "outputs": [],
   "source": [
    "from ecbm4040.xor.rnn import MyLSTMCell\n",
    "\n",
    "# recreate xor netowrk with your own LSTM cell\n",
    "tf.reset_default_graph()\n",
    "\n",
    "#Input shape: (num_samples,seq_length,input_dimension)\n",
    "#Output shape: (num_samples, output_ground_truth), and output_ground_truth is 0/1. \n",
    "input_data = tf.placeholder(tf.float32,shape=[None,None,1])\n",
    "output_data = tf.placeholder(tf.int64,shape=[None,None])\n",
    "\n",
    "# recreate xor netowrk with your own LSTM cell\n",
    "lstm_units = 64\n",
    "cell = MyLSTMCell(lstm_units,num_proj=2)\n",
    "\n",
    "# create LSTM network: you can also choose other modules provided by tensorflow, like static_rnn etc.\n",
    "out,_ = tf.nn.dynamic_rnn(cell,input_data,dtype=tf.float32)\n",
    "pred = tf.argmax(out,axis=2)\n",
    "\n",
    "# loss function\n",
    "loss = tf.reduce_mean(tf.nn.sparse_softmax_cross_entropy_with_logits(labels=output_data,logits=out))\n",
    "# optimization\n",
    "optimizer = tf.train.AdamOptimizer(learning_rate=0.1).minimize(loss)\n",
    "# accuracy\n",
    "correct = tf.equal(output_data,pred)\n",
    "accuracy = tf.reduce_mean(tf.cast(correct,tf.float32))"
   ]
  },
  {
   "cell_type": "markdown",
   "metadata": {},
   "source": [
    "### Training"
   ]
  },
  {
   "cell_type": "code",
   "execution_count": 55,
   "metadata": {},
   "outputs": [
    {
     "name": "stdout",
     "output_type": "stream",
     "text": [
      "number of batches for training: 8\n",
      "epoch 1 \n",
      "100/800 loss: 0.6955928206443787\n",
      "200/800 loss: 0.740265965461731\n",
      "300/800 loss: 0.6894403696060181\n",
      "400/800 loss: 0.6942646503448486\n",
      "500/800 loss: 0.6934614777565002\n",
      "600/800 loss: 0.7031840682029724\n",
      "700/800 loss: 0.6870318651199341\n",
      "800/800 loss: 0.6844196915626526\n",
      "epoch 2 \n",
      "100/800 loss: 0.681629478931427\n",
      "200/800 loss: 0.6877620220184326\n",
      "300/800 loss: 0.6816754341125488\n",
      "400/800 loss: 0.6786144971847534\n",
      "500/800 loss: 0.6586611866950989\n",
      "600/800 loss: 0.6616349220275879\n",
      "700/800 loss: 0.6105339527130127\n",
      "800/800 loss: 0.6326364874839783\n",
      "epoch 3 \n",
      "100/800 loss: 0.45354363322257996\n",
      "200/800 loss: 0.38253065943717957\n",
      "300/800 loss: 0.27468758821487427\n",
      "400/800 loss: 0.20591045916080475\n",
      "500/800 loss: 0.1950611174106598\n",
      "600/800 loss: 0.1953883022069931\n",
      "700/800 loss: 0.13788960874080658\n",
      "800/800 loss: 0.1392546445131302\n",
      "epoch 4 \n",
      "100/800 loss: 0.1550242006778717\n",
      "200/800 loss: 0.11097326129674911\n",
      "300/800 loss: 0.10336418449878693\n",
      "400/800 loss: 0.11206682026386261\n",
      "500/800 loss: 0.11462711542844772\n",
      "600/800 loss: 0.10820002853870392\n",
      "700/800 loss: 0.08861133456230164\n",
      "800/800 loss: 0.08707086741924286\n",
      "epoch 5 \n",
      "100/800 loss: 0.09307173639535904\n",
      "200/800 loss: 0.08242548257112503\n",
      "300/800 loss: 0.07814311236143112\n",
      "400/800 loss: 0.08282773941755295\n",
      "500/800 loss: 0.08910002559423447\n",
      "600/800 loss: 0.09309931099414825\n",
      "700/800 loss: 0.07767490297555923\n",
      "800/800 loss: 0.07960228621959686\n",
      "epoch 6 \n",
      "100/800 loss: 0.0877181813120842\n",
      "200/800 loss: 0.078071229159832\n",
      "300/800 loss: 0.07447993010282516\n",
      "400/800 loss: 0.07961349189281464\n",
      "500/800 loss: 0.08633348345756531\n",
      "600/800 loss: 0.09055393189191818\n",
      "700/800 loss: 0.07596923410892487\n",
      "800/800 loss: 0.07805081456899643\n",
      "epoch 7 \n",
      "100/800 loss: 0.08658276498317719\n",
      "200/800 loss: 0.07694690674543381\n",
      "300/800 loss: 0.07344669103622437\n",
      "400/800 loss: 0.0785851776599884\n",
      "500/800 loss: 0.08547601103782654\n",
      "600/800 loss: 0.0897446796298027\n",
      "700/800 loss: 0.07499940693378448\n",
      "800/800 loss: 0.07756006717681885\n",
      "epoch 8 \n",
      "100/800 loss: 0.08616845309734344\n",
      "200/800 loss: 0.07661677151918411\n",
      "300/800 loss: 0.07312733680009842\n",
      "400/800 loss: 0.07829412072896957\n",
      "500/800 loss: 0.08520360291004181\n",
      "600/800 loss: 0.08951809257268906\n",
      "700/800 loss: 0.07478200644254684\n",
      "800/800 loss: 0.07736169546842575\n",
      "epoch 9 \n",
      "100/800 loss: 0.08601202070713043\n",
      "200/800 loss: 0.07647458463907242\n",
      "300/800 loss: 0.07300740480422974\n",
      "400/800 loss: 0.07818911224603653\n",
      "500/800 loss: 0.08511944115161896\n",
      "600/800 loss: 0.0894371047616005\n",
      "700/800 loss: 0.07471717149019241\n",
      "800/800 loss: 0.077301524579525\n",
      "epoch 10 \n",
      "100/800 loss: 0.0859636664390564\n",
      "200/800 loss: 0.07642464339733124\n",
      "300/800 loss: 0.07295837253332138\n",
      "400/800 loss: 0.07814452052116394\n",
      "500/800 loss: 0.08507402241230011\n",
      "600/800 loss: 0.08939917385578156\n",
      "700/800 loss: 0.07467207312583923\n",
      "800/800 loss: 0.07726529985666275\n",
      "epoch 11 \n",
      "100/800 loss: 0.08592681586742401\n",
      "200/800 loss: 0.07639209926128387\n",
      "300/800 loss: 0.07292614132165909\n",
      "400/800 loss: 0.07811922580003738\n",
      "500/800 loss: 0.085050068795681\n",
      "600/800 loss: 0.08938346058130264\n",
      "700/800 loss: 0.07465164363384247\n",
      "800/800 loss: 0.07725062966346741\n",
      "epoch 12 \n",
      "100/800 loss: 0.08591137081384659\n",
      "200/800 loss: 0.07637843489646912\n",
      "300/800 loss: 0.07291210442781448\n",
      "400/800 loss: 0.0781065970659256\n",
      "500/800 loss: 0.08503692597150803\n",
      "600/800 loss: 0.08937063813209534\n",
      "700/800 loss: 0.0746387466788292\n",
      "800/800 loss: 0.07723704725503922\n",
      "epoch 13 \n",
      "100/800 loss: 0.08589894324541092\n",
      "200/800 loss: 0.07636630535125732\n",
      "300/800 loss: 0.07290013134479523\n",
      "400/800 loss: 0.07809492200613022\n",
      "500/800 loss: 0.08502576500177383\n",
      "600/800 loss: 0.08935842663049698\n",
      "700/800 loss: 0.07462917268276215\n",
      "800/800 loss: 0.07722637802362442\n",
      "epoch 14 \n",
      "100/800 loss: 0.08588975667953491\n",
      "200/800 loss: 0.07635769993066788\n",
      "300/800 loss: 0.07289149612188339\n",
      "400/800 loss: 0.07808639854192734\n",
      "500/800 loss: 0.08501753211021423\n",
      "600/800 loss: 0.08934991806745529\n",
      "700/800 loss: 0.07462121546268463\n",
      "800/800 loss: 0.07721851021051407\n",
      "epoch 15 \n",
      "100/800 loss: 0.08588188141584396\n",
      "200/800 loss: 0.07635030150413513\n",
      "300/800 loss: 0.07288385182619095\n",
      "400/800 loss: 0.07807907462120056\n",
      "500/800 loss: 0.0850103348493576\n",
      "600/800 loss: 0.08934327214956284\n",
      "700/800 loss: 0.07461407035589218\n",
      "800/800 loss: 0.07721198350191116\n",
      "Traning ends.\n"
     ]
    }
   ],
   "source": [
    "# YOUR TRAINING AND PLOTTING CODE HERE\n",
    "epoch=15\n",
    "batch_size=100\n",
    "\n",
    "iters = int(X_train.shape[0] / batch_size)\n",
    "print('number of batches for training: {}'.format(iters))\n",
    "\n",
    "iter_total = 0\n",
    "best_acc = 0\n",
    "losses=[]\n",
    "with tf.Session() as sess:\n",
    "    sess.run(tf.global_variables_initializer())\n",
    "    for epc in range(epoch):\n",
    "        print(\"epoch {} \".format(epc + 1))\n",
    "\n",
    "        for itr in range(iters):\n",
    "\n",
    "            training_batch_x = X_train[itr * batch_size: (1 + itr) * batch_size]\n",
    "            training_batch_y = y_train[itr * batch_size: (1 + itr) * batch_size]\n",
    "\n",
    "            _, cur_loss = sess.run([optimizer, loss], feed_dict={input_data: training_batch_x, output_data: training_batch_y})\n",
    "            print('{}/{} loss: {}'.format(\n",
    "                    batch_size * (itr + 1),\n",
    "                    X_train.shape[0],\n",
    "                    cur_loss))\n",
    "            losses.append(cur_loss)\n",
    "print(\"Traning ends.\")"
   ]
  },
  {
   "cell_type": "code",
   "execution_count": 56,
   "metadata": {},
   "outputs": [
    {
     "data": {
      "text/plain": [
       "<matplotlib.legend.Legend at 0x11f9a4048>"
      ]
     },
     "execution_count": 56,
     "metadata": {},
     "output_type": "execute_result"
    },
    {
     "data": {
      "image/png": "[encoded data removed]",
      "text/plain": [
       "<matplotlib.figure.Figure at 0x11ef7e240>"
      ]
     },
     "metadata": {},
     "output_type": "display_data"
    }
   ],
   "source": [
    "#Plotting loss vs epochs\n",
    "plt.figure(figsize=(10,8))\n",
    "plt.plot(losses, label=\"loss\")\n",
    "plt.legend()"
   ]
  },
  {
   "cell_type": "code",
   "execution_count": 2,
   "metadata": {},
   "outputs": [
    {
     "name": "stdout",
     "output_type": "stream",
     "text": [
      "C:\\Users\\zoran\\Anaconda3\\envs\\dlWorksA3\\lib\\site-packages\\tensorflow\\__init__.py\n"
     ]
    }
   ],
   "source": [
    "import tensorflow as tf\n",
    "print (tf.__file__)"
   ]
  },
  {
   "cell_type": "code",
   "execution_count": 36,
   "metadata": {},
   "outputs": [
    {
     "name": "stdout",
     "output_type": "stream",
     "text": [
      "/Users/ADI/anaconda/envs/dlWorks/lib/python3.5/site-packages/tensorflow/__init__.py\n"
     ]
    }
   ],
   "source": [
    "print(tf.__file__)"
   ]
  }
 ],
 "metadata": {
  "kernelspec": {
   "display_name": "Python 3 (dlWorks)",
   "language": "python",
   "name": "python3"
  },
  "language_info": {
   "codemirror_mode": {
    "name": "ipython",
    "version": 3
   },
   "file_extension": ".py",
   "mimetype": "text/x-python",
   "name": "python",
   "nbconvert_exporter": "python",
   "pygments_lexer": "ipython3",
   "version": "3.5.4"
  }
 },
 "nbformat": 4,
 "nbformat_minor": 2
}
